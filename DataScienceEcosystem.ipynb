{
 "cells": [
  {
   "cell_type": "markdown",
   "id": "621bf462-6350-4e85-b580-549bb8993703",
   "metadata": {},
   "source": [
    "# Data Science Tools and Ecosystem"
   ]
  },
  {
   "cell_type": "markdown",
   "id": "66e30f40-6c3d-477b-9f74-c0f00320df93",
   "metadata": {},
   "source": [
    "In this notebook, Data Science Tools and Ecosystem are summarized."
   ]
  },
  {
   "cell_type": "markdown",
   "id": "04681d7f-1ee4-4ddc-a832-d1530a4a1290",
   "metadata": {},
   "source": [
    "Some of the popular languages that Data Scientists use are:\n",
    "1. Python\n",
    "2. R\n",
    "3. SQL\n",
    "4. Scala\n",
    "    "
   ]
  },
  {
   "cell_type": "markdown",
   "id": "8611a290-17ad-493e-8fbf-27638631c546",
   "metadata": {},
   "source": [
    "Some of the commonly used libraries used by Data Scientists include:\n",
    "1. Pandas\n",
    "2. NumPy\n",
    "3. Scipy\n",
    "4. TensorFlow"
   ]
  },
  {
   "cell_type": "markdown",
   "id": "c4621262-b0c8-4ffd-92f7-469deae7616f",
   "metadata": {},
   "source": [
    "| Data Science Tools |\n",
    "| ------------------ |\n",
    "| PowerBI |\n",
    "| GITHUB |\n",
    "| Tableau |"
   ]
  },
  {
   "cell_type": "markdown",
   "id": "6592535b-647a-4df0-921a-222d49f91c36",
   "metadata": {},
   "source": [
    "### Below are a few examples of evaluating arithmetic expressions in Python"
   ]
  },
  {
   "cell_type": "code",
   "execution_count": 2,
   "id": "c0f4b34f-7832-43c1-ad83-35b41178c762",
   "metadata": {
    "tags": []
   },
   "outputs": [
    {
     "data": {
      "text/plain": [
       "17"
      ]
     },
     "execution_count": 2,
     "metadata": {},
     "output_type": "execute_result"
    }
   ],
   "source": [
    "#This a simple arithmetic expression to mutiply then add integers\n",
    "(3*4)+5"
   ]
  },
  {
   "cell_type": "code",
   "execution_count": 4,
   "id": "53157fb8-bb0c-4cc5-9c86-f9ffedc647e2",
   "metadata": {
    "tags": []
   },
   "outputs": [
    {
     "name": "stdout",
     "output_type": "stream",
     "text": [
      "Hours= 3.3333333333333335\n"
     ]
    }
   ],
   "source": [
    "#This will convert 200 minutes to hours by diving by 60\n",
    "\n",
    "min=200\n",
    "hour=min/60\n",
    "print(\"Hours=\",hour)\n",
    "\n"
   ]
  },
  {
   "cell_type": "markdown",
   "id": "7b302b88-0792-4e6a-9f2c-5213a3337e16",
   "metadata": {},
   "source": [
    "**Objectives:**\n",
    "- Some of the commonly used libraries used by Data Scientists \n",
    "- Some of the popular languages that Data Scientists\n",
    "- Evaluating arithmetic expressions in Python\n",
    "- Data Science Tools"
   ]
  },
  {
   "cell_type": "markdown",
   "id": "90277ac8-e46f-4120-a459-a2b484634e62",
   "metadata": {},
   "source": [
    "## Author\n",
    "Muluguri Vinay Kumar"
   ]
  },
  {
   "cell_type": "code",
   "execution_count": null,
   "id": "87446fc9-968d-48cd-9bf7-d7c598cf6c18",
   "metadata": {},
   "outputs": [],
   "source": []
  }
 ],
 "metadata": {
  "kernelspec": {
   "display_name": "Python 3 (ipykernel)",
   "language": "python",
   "name": "python3"
  },
  "language_info": {
   "codemirror_mode": {
    "name": "ipython",
    "version": 3
   },
   "file_extension": ".py",
   "mimetype": "text/x-python",
   "name": "python",
   "nbconvert_exporter": "python",
   "pygments_lexer": "ipython3",
   "version": "3.11.5"
  }
 },
 "nbformat": 4,
 "nbformat_minor": 5
}
